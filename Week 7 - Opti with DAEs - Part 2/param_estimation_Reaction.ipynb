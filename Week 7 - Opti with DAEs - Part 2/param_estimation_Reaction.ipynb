{
 "cells": [
  {
   "cell_type": "code",
   "execution_count": 1,
   "metadata": {},
   "outputs": [],
   "source": [
    "import warnings\n",
    "warnings.filterwarnings(\"ignore\")\n",
    "\n",
    "from scipy.integrate import solve_ivp\n",
    "from pyomo.environ import *\n",
    "from pyomo.dae import DerivativeVar, ContinuousSet\n",
    "import matplotlib.pyplot as plt\n",
    "from time import time\n",
    "import pandas as pd\n",
    "import numpy as np"
   ]
  },
  {
   "cell_type": "markdown",
   "metadata": {},
   "source": [
    "Consider the reaction: A -> B -> C modeled by the following ODEs:\n",
    "        \n",
    "$$\\frac{dA}{dt}=-k_1 A$$\n",
    "$$\\frac{dB}{dt}=k_1 A-k_2 B$$\n",
    "\n",
    "with initial conditions: $A(0)=1, B(0)=0$. Fit the ODEs to the following experimental data set and find $k_1$ and $k_2$:\n",
    "\n",
    "|Time |  0.1 |  0.2 |  0.3 |  0.4 |  0.5 |  0.6 |  0.7 |  0.8 |  0.9 |  1.0 |\n",
    "|-----|------|------|------|------|------|------|------|------|------|------|\n",
    "|A    | 0.606| 0.368| 0.223| 0.135| 0.082| 0.050| 0.030| 0.018| 0.011| 0.007|\n",
    "|B    | 0.373| 0.564| 0.647| 0.669| 0.656| 0.624| 0.583| 0.539| 0.494| 0.451|\n",
    "\n",
    "Reference: Pyomo Workshop Dec 2023"
   ]
  },
  {
   "cell_type": "code",
   "execution_count": 2,
   "metadata": {},
   "outputs": [
    {
     "data": {
      "image/png": "[encoded data removed]",
      "text/plain": [
       "<Figure size 432x288 with 1 Axes>"
      ]
     },
     "metadata": {
      "needs_background": "light"
     },
     "output_type": "display_data"
    }
   ],
   "source": [
    "A_data = {0.1:0.606, 0.2:0.368, 0.3:0.223, 0.4:0.135, 0.5:0.082, 0.6:0.050, 0.7:0.030, 0.8:0.018, 0.9:0.011, 1.0:0.007}\n",
    "B_data = {0.1:0.373, 0.2:0.564, 0.3:0.647, 0.4:0.669, 0.5:0.656, 0.6:0.624, 0.7:0.583, 0.8:0.539, 0.9:0.494, 1.0:0.451}\n",
    "\n",
    "plt.scatter(A_data.keys(), A_data.values(), c='r', label='A(t)')\n",
    "plt.scatter(B_data.keys(), B_data.values(), c='b', label='B(t)')\n",
    "plt.xlabel('Time')\n",
    "plt.legend()\n",
    "plt.grid()\n",
    "plt.show()"
   ]
  },
  {
   "cell_type": "code",
   "execution_count": 3,
   "metadata": {},
   "outputs": [
    {
     "name": "stdout",
     "output_type": "stream",
     "text": [
      "WARNING: The current pynumero_ASL library is version=3, but found version=1.\n",
      "Please recompile / update your pynumero_ASL library.\n",
      "\n",
      "******************************************************************************\n",
      "This program contains Ipopt, a library for large-scale nonlinear optimization.\n",
      " Ipopt is released as open source code under the Eclipse Public License (EPL).\n",
      "         For more information visit https://github.com/coin-or/Ipopt\n",
      "******************************************************************************\n",
      "\n",
      "This is Ipopt version 3.13.3, running with linear solver mumps.\n",
      "NOTE: Other linear solvers might be more efficient (see Ipopt documentation).\n",
      "\n",
      "Number of nonzeros in equality constraint Jacobian...:     1090\n",
      "Number of nonzeros in inequality constraint Jacobian.:        0\n",
      "Number of nonzeros in Lagrangian Hessian.............:      142\n",
      "\n",
      "Total number of variables............................:      246\n",
      "                     variables with only lower bounds:        0\n",
      "                variables with lower and upper bounds:        2\n",
      "                     variables with only upper bounds:        0\n",
      "Total number of equality constraints.................:      244\n",
      "Total number of inequality constraints...............:        0\n",
      "        inequality constraints with only lower bounds:        0\n",
      "   inequality constraints with lower and upper bounds:        0\n",
      "        inequality constraints with only upper bounds:        0\n",
      "\n",
      "iter    objective    inf_pr   inf_du lg(mu)  ||d||  lg(rg) alpha_du alpha_pr  ls\n",
      "   0  3.8021860e+00 1.00e+00 3.42e-14  -1.0 0.00e+00    -  0.00e+00 0.00e+00   0\n",
      "   1  8.4812465e+00 4.29e-03 1.20e+01  -1.0 1.00e+00    -  1.65e-01 1.00e+00H  1\n",
      "   2  2.8608187e+00 3.51e-01 2.35e+00  -1.0 6.40e-01    -  1.00e+00 1.00e+00f  1\n",
      "   3  1.2101121e+00 2.16e-01 8.03e-01  -1.0 8.05e-01    -  5.52e-01 1.00e+00h  1\n",
      "   4  2.5693427e-01 3.47e-01 3.75e-01  -1.7 1.23e+00    -  3.73e-01 1.00e+00h  1\n",
      "   5  6.5184832e-03 2.45e-01 3.06e-02  -1.7 1.46e+00    -  1.00e+00 1.00e+00h  1\n",
      "   6  1.8159864e-04 2.35e-02 2.06e-03  -1.7 6.40e-01    -  1.00e+00 1.00e+00h  1\n",
      "   7  1.3318863e-06 2.08e-04 2.10e-04  -3.8 6.83e-02    -  9.93e-01 1.00e+00h  1\n",
      "   8  1.1858434e-06 3.52e-07 5.86e-08  -5.7 2.34e-03    -  1.00e+00 1.00e+00h  1\n",
      "   9  1.1858592e-06 6.59e-13 8.32e-13  -8.6 2.25e-06    -  1.00e+00 1.00e+00h  1\n",
      "\n",
      "Number of Iterations....: 9\n",
      "\n",
      "                                   (scaled)                 (unscaled)\n",
      "Objective...............:   1.1858592202020938e-06    1.1858592202020938e-06\n",
      "Dual infeasibility......:   8.3230253420242535e-13    8.3230253420242535e-13\n",
      "Constraint violation....:   6.5886185396379915e-13    6.5886185396379915e-13\n",
      "Complementarity.........:   2.5086036139754817e-09    2.5086036139754817e-09\n",
      "Overall NLP error.......:   2.5086036139754817e-09    2.5086036139754817e-09\n",
      "\n",
      "\n",
      "Number of objective function evaluations             = 12\n",
      "Number of objective gradient evaluations             = 10\n",
      "Number of equality constraint evaluations            = 12\n",
      "Number of inequality constraint evaluations          = 0\n",
      "Number of equality constraint Jacobian evaluations   = 10\n",
      "Number of inequality constraint Jacobian evaluations = 0\n",
      "Number of Lagrangian Hessian evaluations             = 9\n",
      "Total CPU secs in IPOPT (w/o function evaluations)   =      0.095\n",
      "Total CPU secs in NLP function evaluations           =      0.008\n",
      "\n",
      "EXIT: Optimal Solution Found.\n",
      "k1 = 5.003487192598566\n",
      "k2 = 0.9999997131786615\n"
     ]
    },
    {
     "data": {
      "image/png": "[encoded data removed]",
      "text/plain": [
       "<Figure size 432x288 with 1 Axes>"
      ]
     },
     "metadata": {
      "needs_background": "light"
     },
     "output_type": "display_data"
    }
   ],
   "source": [
    "m = ConcreteModel()\n",
    "m.t = ContinuousSet(initialize=A_data.keys(), bounds=(0, 1))\n",
    "\n",
    "m.A = Var(m.t)              # Many values over m.t\n",
    "m.B = Var(m.t)              # Many values over m.t\n",
    "m.k1 = Var(bounds=(0, 10))  # Scalar value only\n",
    "m.k2 = Var(bounds=(0, 10))  # Scalar value only\n",
    "\n",
    "m.dAdt = DerivativeVar(m.A, wrt=m.t)\n",
    "m.dBdt = DerivativeVar(m.B, wrt=m.t)\n",
    "\n",
    "def _init_con(m):\n",
    "    yield m.A[0] == 1\n",
    "    yield m.B[0] == 0\n",
    "m.init_con = ConstraintList(rule=_init_con)\n",
    "\n",
    "def _dAdt(m, i):\n",
    "    return m.dAdt[i] == -m.k1*m.A[i]\n",
    "m.dAdtcon = Constraint(m.t, rule=_dAdt)\n",
    "\n",
    "def _dBdt(m, i):\n",
    "    return m.dBdt[i] == m.k1*m.A[i] - m.k2*m.B[i]\n",
    "m.dBdtcon = Constraint(m.t, rule=_dBdt)\n",
    "\n",
    "def _obj(m):\n",
    "    return sum((m.A[i] - A_data[i])**2 for i in A_data.keys()) +\\\n",
    "           sum((m.B[i] - B_data[i])**2 for i in B_data.keys())\n",
    "m.obj = Objective(rule=_obj)\n",
    "\n",
    "discretizer = TransformationFactory('dae.collocation')\n",
    "discretizer.apply_to(m, nfe=20, ncp=3, scheme='LAGRANGE-RADAU')\n",
    "\n",
    "solver = SolverFactory('cyipopt')\n",
    "res = solver.solve(m, tee=True)\n",
    "\n",
    "t = list(m.t)\n",
    "A_fit = [value(m.A[i]) for i in m.t]\n",
    "B_fit = [value(m.B[i]) for i in m.t]\n",
    "\n",
    "print(f'k1 = {value(m.k1)}')\n",
    "print(f'k2 = {value(m.k2)}')\n",
    "\n",
    "plt.scatter(A_data.keys(), A_data.values(), c='r', label='A(t)')\n",
    "plt.scatter(B_data.keys(), B_data.values(), c='b', label='B(t)')\n",
    "plt.plot(t, A_fit, c='r', label='A Fit')\n",
    "plt.plot(t, B_fit, c='b', label='B Fit')\n",
    "plt.xlabel('Time')\n",
    "plt.legend()\n",
    "plt.grid()\n",
    "plt.show()"
   ]
  },
  {
   "cell_type": "markdown",
   "metadata": {},
   "source": [
    "# Try a data set with some noise"
   ]
  },
  {
   "cell_type": "code",
   "execution_count": 4,
   "metadata": {},
   "outputs": [
    {
     "name": "stdout",
     "output_type": "stream",
     "text": [
      "This is Ipopt version 3.13.3, running with linear solver mumps.\n",
      "NOTE: Other linear solvers might be more efficient (see Ipopt documentation).\n",
      "\n",
      "Number of nonzeros in equality constraint Jacobian...:     1090\n",
      "Number of nonzeros in inequality constraint Jacobian.:        0\n",
      "Number of nonzeros in Lagrangian Hessian.............:      142\n",
      "\n",
      "Total number of variables............................:      246\n",
      "                     variables with only lower bounds:        0\n",
      "                variables with lower and upper bounds:        2\n",
      "                     variables with only upper bounds:        0\n",
      "Total number of equality constraints.................:      244\n",
      "Total number of inequality constraints...............:        0\n",
      "        inequality constraints with only lower bounds:        0\n",
      "   inequality constraints with lower and upper bounds:        0\n",
      "        inequality constraints with only upper bounds:        0\n",
      "\n",
      "iter    objective    inf_pr   inf_du lg(mu)  ||d||  lg(rg) alpha_du alpha_pr  ls\n",
      "   0  3.7383730e+00 1.00e+00 9.44e-15  -1.0 0.00e+00    -  0.00e+00 0.00e+00   0\n",
      "   1  8.4387521e+00 4.25e-03 1.19e+01  -1.0 1.00e+00    -  1.67e-01 1.00e+00H  1\n",
      "   2  2.8538568e+00 3.50e-01 2.34e+00  -1.0 6.39e-01    -  1.00e+00 1.00e+00f  1\n",
      "   3  1.2163570e+00 2.15e-01 7.97e-01  -1.0 8.01e-01    -  5.53e-01 1.00e+00h  1\n",
      "   4  2.5572428e-01 3.54e-01 3.59e-01  -1.7 1.23e+00    -  3.70e-01 1.00e+00h  1\n",
      "   5  9.1093554e-03 2.41e-01 3.03e-02  -1.7 1.46e+00    -  1.00e+00 1.00e+00h  1\n",
      "   6  1.4968219e-03 2.39e-02 2.12e-03  -1.7 6.44e-01    -  1.00e+00 1.00e+00h  1\n",
      "   7  1.3286574e-03 2.25e-04 2.15e-04  -3.8 7.07e-02    -  9.93e-01 1.00e+00h  1\n",
      "   8  1.3281870e-03 3.88e-07 6.42e-08  -5.7 2.47e-03    -  1.00e+00 1.00e+00h  1\n",
      "   9  1.3281861e-03 6.42e-13 8.27e-13  -8.6 2.53e-06    -  1.00e+00 1.00e+00h  1\n",
      "\n",
      "Number of Iterations....: 9\n",
      "\n",
      "                                   (scaled)                 (unscaled)\n",
      "Objective...............:   1.3281861240174559e-03    1.3281861240174559e-03\n",
      "Dual infeasibility......:   8.2691614464704655e-13    8.2691614464704655e-13\n",
      "Constraint violation....:   6.4226401974565306e-13    6.4226401974565306e-13\n",
      "Complementarity.........:   2.5085556456855427e-09    2.5085556456855427e-09\n",
      "Overall NLP error.......:   2.5085556456855427e-09    2.5085556456855427e-09\n",
      "\n",
      "\n",
      "Number of objective function evaluations             = 12\n",
      "Number of objective gradient evaluations             = 10\n",
      "Number of equality constraint evaluations            = 12\n",
      "Number of inequality constraint evaluations          = 0\n",
      "Number of equality constraint Jacobian evaluations   = 10\n",
      "Number of inequality constraint Jacobian evaluations = 0\n",
      "Number of Lagrangian Hessian evaluations             = 9\n",
      "Total CPU secs in IPOPT (w/o function evaluations)   =      0.091\n",
      "Total CPU secs in NLP function evaluations           =      0.004\n",
      "\n",
      "EXIT: Optimal Solution Found.\n",
      "k1 = 5.004281476030055\n",
      "k2 = 1.0195164846987421\n"
     ]
    },
    {
     "data": {
      "image/png": "[encoded data removed]",
      "text/plain": [
       "<Figure size 432x288 with 1 Axes>"
      ]
     },
     "metadata": {
      "needs_background": "light"
     },
     "output_type": "display_data"
    }
   ],
   "source": [
    "A_data = {0.1:0.61, 0.2:0.35, 0.3:0.23, 0.4:0.13, 0.5:0.08, 0.6:0.06, 0.7:0.028, 0.8:0.022, 0.9:0.014, 1.0:0.003}\n",
    "B_data = {0.1:0.37, 0.2:0.56, 0.3:0.65, 0.4:0.65, 0.5:0.66, 0.6:0.61, 0.7:0.58, 0.8:0.52, 0.9:0.5, 1.0:0.45}\n",
    "\n",
    "m = ConcreteModel()\n",
    "m.t = ContinuousSet(initialize=A_data.keys(), bounds=(0, 1))\n",
    "\n",
    "m.A = Var(m.t)              # Many values over m.t\n",
    "m.B = Var(m.t)              # Many values over m.t\n",
    "m.k1 = Var(bounds=(0, 10))  # Scalar value only\n",
    "m.k2 = Var(bounds=(0, 10))  # Scalar value only\n",
    "\n",
    "m.dAdt = DerivativeVar(m.A, wrt=m.t)\n",
    "m.dBdt = DerivativeVar(m.B, wrt=m.t)\n",
    "\n",
    "def _init_con(m):\n",
    "    yield m.A[0] == 1\n",
    "    yield m.B[0] == 0\n",
    "m.init_con = ConstraintList(rule=_init_con)\n",
    "\n",
    "def _dAdt(m, i):\n",
    "    return m.dAdt[i] == -m.k1*m.A[i]\n",
    "m.dAdtcon = Constraint(m.t, rule=_dAdt)\n",
    "\n",
    "def _dBdt(m, i):\n",
    "    return m.dBdt[i] == m.k1*m.A[i] - m.k2*m.B[i]\n",
    "m.dBdtcon = Constraint(m.t, rule=_dBdt)\n",
    "\n",
    "def _obj(m):\n",
    "    return sum((m.A[i] - A_data[i])**2 for i in A_data.keys()) +\\\n",
    "           sum((m.B[i] - B_data[i])**2 for i in B_data.keys())\n",
    "m.obj = Objective(rule=_obj)\n",
    "\n",
    "discretizer = TransformationFactory('dae.collocation')\n",
    "discretizer.apply_to(m, nfe=20, ncp=3, scheme='LAGRANGE-RADAU')\n",
    "\n",
    "solver = SolverFactory('cyipopt')\n",
    "res = solver.solve(m, tee=True)\n",
    "\n",
    "t = list(m.t)\n",
    "A_fit = [value(m.A[i]) for i in m.t]\n",
    "B_fit = [value(m.B[i]) for i in m.t]\n",
    "\n",
    "print(f'k1 = {value(m.k1)}')\n",
    "print(f'k2 = {value(m.k2)}')\n",
    "\n",
    "plt.scatter(A_data.keys(), A_data.values(), c='r', label='A(t)')\n",
    "plt.scatter(B_data.keys(), B_data.values(), c='b', label='B(t)')\n",
    "plt.plot(t, A_fit, c='r', label='A Fit')\n",
    "plt.plot(t, B_fit, c='b', label='B Fit')\n",
    "plt.xlabel('Time')\n",
    "plt.legend()\n",
    "plt.grid()\n",
    "plt.show()"
   ]
  },
  {
   "cell_type": "code",
   "execution_count": null,
   "metadata": {},
   "outputs": [],
   "source": []
  }
 ],
 "metadata": {
  "kernelspec": {
   "display_name": "Python 3",
   "language": "python",
   "name": "python3"
  },
  "language_info": {
   "codemirror_mode": {
    "name": "ipython",
    "version": 3
   },
   "file_extension": ".py",
   "mimetype": "text/x-python",
   "name": "python",
   "nbconvert_exporter": "python",
   "pygments_lexer": "ipython3",
   "version": "3.8.3"
  }
 },
 "nbformat": 4,
 "nbformat_minor": 4
}
