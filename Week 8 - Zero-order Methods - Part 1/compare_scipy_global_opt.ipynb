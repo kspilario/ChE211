{
 "cells": [
  {
   "cell_type": "code",
   "execution_count": 1,
   "metadata": {},
   "outputs": [],
   "source": [
    "import warnings\n",
    "warnings.filterwarnings(\"ignore\")\n",
    "\n",
    "import numpy as np\n",
    "from scipy.optimize import (\n",
    "    differential_evolution,\n",
    "    dual_annealing,\n",
    "    shgo,\n",
    "    basinhopping,\n",
    "    minimize,\n",
    "    rosen\n",
    ")\n",
    "import time\n",
    "import pandas as pd"
   ]
  },
  {
   "cell_type": "markdown",
   "metadata": {},
   "source": [
    "This code is almost 100% AI-generated using the prompt: \"Write a Python code that compares the various derivative-free global optimizers, available in scipy, for minimizing the rosenbrock function.\" and \"Add Nelder-Mead simplex.\""
   ]
  },
  {
   "cell_type": "code",
   "execution_count": 2,
   "metadata": {},
   "outputs": [
    {
     "name": "stdout",
     "output_type": "stream",
     "text": [
      "\n",
      "=== Comparison of Derivative-Free Optimizers on Rosenbrock Function ===\n",
      "                method          fun  nfev  success  time (s)\n",
      "Differential Evolution 1.991874e-29 46956     True  2.998683\n",
      "        Dual Annealing 2.283989e-11 10361     True  0.421248\n",
      "                  SHGO 2.527248e-11   280     True  2.035270\n",
      "         Basin Hopping 1.289667e-11 31192    False  1.297423\n",
      "           Nelder-Mead 4.286397e-09   809     True  0.015622\n"
     ]
    }
   ],
   "source": [
    "# Problem setup\n",
    "n_dim = 5\n",
    "bounds = [(-5, 5)] * n_dim\n",
    "x0 = np.random.uniform(-3, 3, size=n_dim)\n",
    "\n",
    "# Storage for results\n",
    "results = []\n",
    "\n",
    "# --- Differential Evolution (Global) ---\n",
    "start = time.time()\n",
    "res = differential_evolution(rosen, bounds)\n",
    "elapsed = time.time() - start\n",
    "results.append({\n",
    "    'method': 'Differential Evolution',\n",
    "    'fun': res.fun,\n",
    "    'nfev': res.nfev,\n",
    "    'success': res.success,\n",
    "    'time (s)': elapsed\n",
    "})\n",
    "\n",
    "# --- Dual Annealing (Global) ---\n",
    "start = time.time()\n",
    "res = dual_annealing(rosen, bounds)\n",
    "elapsed = time.time() - start\n",
    "results.append({\n",
    "    'method': 'Dual Annealing',\n",
    "    'fun': res.fun,\n",
    "    'nfev': res.nfev,\n",
    "    'success': res.success,\n",
    "    'time (s)': elapsed\n",
    "})\n",
    "\n",
    "# --- SHGO (Global, deterministic) ---\n",
    "start = time.time()\n",
    "res = shgo(rosen, bounds)\n",
    "elapsed = time.time() - start\n",
    "results.append({\n",
    "    'method': 'SHGO',\n",
    "    'fun': res.fun,\n",
    "    'nfev': res.nfev,\n",
    "    'success': res.success,\n",
    "    'time (s)': elapsed\n",
    "})\n",
    "\n",
    "# --- Basin Hopping (Global stochastic with local steps) ---\n",
    "start = time.time()\n",
    "res = basinhopping(rosen, x0, niter=100)\n",
    "elapsed = time.time() - start\n",
    "results.append({\n",
    "    'method': 'Basin Hopping',\n",
    "    'fun': res.fun,\n",
    "    'nfev': res.nfev,\n",
    "    'success': res.success,\n",
    "    'time (s)': elapsed\n",
    "})\n",
    "\n",
    "# --- Nelder–Mead (Local derivative-free) ---\n",
    "start = time.time()\n",
    "res = minimize(rosen, x0, method='Nelder-Mead')\n",
    "elapsed = time.time() - start\n",
    "results.append({\n",
    "    'method': 'Nelder-Mead',\n",
    "    'fun': res.fun,\n",
    "    'nfev': res.nfev,\n",
    "    'success': res.success,\n",
    "    'time (s)': elapsed\n",
    "})\n",
    "\n",
    "# --- Summary Table ---\n",
    "df = pd.DataFrame(results)\n",
    "df = df[['method', 'fun', 'nfev', 'success', 'time (s)']]\n",
    "print(\"\\n=== Comparison of Derivative-Free Optimizers on Rosenbrock Function ===\")\n",
    "print(df.to_string(index=False))"
   ]
  },
  {
   "cell_type": "code",
   "execution_count": null,
   "metadata": {},
   "outputs": [],
   "source": []
  }
 ],
 "metadata": {
  "kernelspec": {
   "display_name": "Python 3",
   "language": "python",
   "name": "python3"
  },
  "language_info": {
   "codemirror_mode": {
    "name": "ipython",
    "version": 3
   },
   "file_extension": ".py",
   "mimetype": "text/x-python",
   "name": "python",
   "nbconvert_exporter": "python",
   "pygments_lexer": "ipython3",
   "version": "3.8.3"
  }
 },
 "nbformat": 4,
 "nbformat_minor": 4
}
