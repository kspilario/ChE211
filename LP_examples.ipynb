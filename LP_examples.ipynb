{
 "cells": [
  {
   "cell_type": "markdown",
   "id": "ece0e7c0-f595-4e7d-ac1d-6b66bf643638",
   "metadata": {},
   "source": [
    "# EHL Problem 7.2\n",
    "\n",
    "A confectioner manufactures two kinds of candy bars: Ergies (packed with energy for the kiddies) and Nergies (the \"lo-cal\" nugget for weight watchers without willpower). Ergies sell at a profit of 50c per box, and Nergies have a profit of 60c per box. The candy is processes in three main operations: blending, cooking, and packaging. The following table records the average time in minutes required by each box of candy, for each of the three activities:\n",
    "\n",
    "|        | Blending | Cooking | Packing |\n",
    "|--------|----------|---------|---------|\n",
    "|Ergies  |   1      | 5       | 3       |\n",
    "|Nergies |   2      | 4       | 1       |\n",
    "\n",
    "During each production run, the blending equipment is available for a maximum of 14 machine hours, the cooking equipment for at most 40 machine hours, and the packaging equipment for at most 15 machine hours. If each machine can be allocated to the making of either type of candy at all times that it is available for production, determine how many boxed of each kind of cany the confectioner should make to realize the maximum profit."
   ]
  },
  {
   "cell_type": "code",
   "execution_count": 2,
   "id": "3c3c3c90-0d68-4523-ba89-946b5cba508c",
   "metadata": {},
   "outputs": [
    {
     "name": "stdout",
     "output_type": "stream",
     "text": [
      "2 Var Declarations\n",
      "    erg : Size=1, Index=None\n",
      "        Key  : Lower : Value : Upper : Fixed : Stale : Domain\n",
      "        None :     0 :  None :  None : False :  True : NonNegativeReals\n",
      "    nerg : Size=1, Index=None\n",
      "        Key  : Lower : Value : Upper : Fixed : Stale : Domain\n",
      "        None :     0 :  None :  None : False :  True : NonNegativeReals\n",
      "\n",
      "1 Objective Declarations\n",
      "    Obj : Size=1, Index=None, Active=True\n",
      "        Key  : Active : Sense    : Expression\n",
      "        None :   True : maximize : 0.5*erg + 0.6*nerg\n",
      "\n",
      "3 Constraint Declarations\n",
      "    blend : Size=1, Index=None, Active=True\n",
      "        Key  : Lower : Body         : Upper : Active\n",
      "        None :  -Inf : erg + 2*nerg : 840.0 :   True\n",
      "    cook : Size=1, Index=None, Active=True\n",
      "        Key  : Lower : Body           : Upper  : Active\n",
      "        None :  -Inf : 5*erg + 4*nerg : 2400.0 :   True\n",
      "    pack : Size=1, Index=None, Active=True\n",
      "        Key  : Lower : Body         : Upper : Active\n",
      "        None :  -Inf : 3*erg + nerg : 900.0 :   True\n",
      "\n",
      "6 Declarations: erg nerg Obj blend cook pack\n"
     ]
    }
   ],
   "source": [
    "import pyomo.environ as pyo\n",
    "\n",
    "model = pyo.ConcreteModel()\n",
    "\n",
    "model.erg = pyo.Var(within=pyo.NonNegativeReals)\n",
    "model.nerg = pyo.Var(within=pyo.NonNegativeReals)\n",
    "\n",
    "model.Obj = pyo.Objective(expr=0.50*model.erg+0.60*model.nerg,\n",
    "                          sense=pyo.maximize)\n",
    "\n",
    "model.blend = pyo.Constraint(expr=1*model.erg+2*model.nerg <= 14*60)\n",
    "model.cook = pyo.Constraint(expr=5*model.erg+4*model.nerg <= 40*60)\n",
    "model.pack = pyo.Constraint(expr=3*model.erg+1*model.nerg <= 15*60)\n",
    "\n",
    "model.pprint()"
   ]
  },
  {
   "cell_type": "code",
   "execution_count": 3,
   "id": "9637676a-7f18-48a7-bc37-ef731cc9ead0",
   "metadata": {},
   "outputs": [
    {
     "name": "stdout",
     "output_type": "stream",
     "text": [
      "Model unknown\n",
      "\n",
      "  Variables:\n",
      "    erg : Size=1, Index=None\n",
      "        Key  : Lower : Value : Upper : Fixed : Stale : Domain\n",
      "        None :     0 : 192.0 :  None : False : False : NonNegativeReals\n",
      "    nerg : Size=1, Index=None\n",
      "        Key  : Lower : Value : Upper : Fixed : Stale : Domain\n",
      "        None :     0 : 324.0 :  None : False : False : NonNegativeReals\n",
      "\n",
      "  Objectives:\n",
      "    Obj : Size=1, Index=None, Active=True\n",
      "        Key  : Active : Value\n",
      "        None :   True : 290.4\n",
      "\n",
      "  Constraints:\n",
      "    blend : Size=1\n",
      "        Key  : Lower : Body  : Upper\n",
      "        None :  None : 840.0 : 840.0\n",
      "    cook : Size=1\n",
      "        Key  : Lower : Body   : Upper\n",
      "        None :  None : 2256.0 : 2400.0\n",
      "    pack : Size=1\n",
      "        Key  : Lower : Body  : Upper\n",
      "        None :  None : 900.0 : 900.0\n"
     ]
    }
   ],
   "source": [
    "opt = pyo.SolverFactory('glpk')\n",
    "results = opt.solve(model)\n",
    "model.display()"
   ]
  },
  {
   "cell_type": "code",
   "execution_count": null,
   "id": "9b754807-67a8-4c20-9835-cff6cfba3fd8",
   "metadata": {},
   "outputs": [],
   "source": []
  }
 ],
 "metadata": {
  "kernelspec": {
   "display_name": "Python [conda env:base] *",
   "language": "python",
   "name": "conda-base-py"
  },
  "language_info": {
   "codemirror_mode": {
    "name": "ipython",
    "version": 3
   },
   "file_extension": ".py",
   "mimetype": "text/x-python",
   "name": "python",
   "nbconvert_exporter": "python",
   "pygments_lexer": "ipython3",
   "version": "3.12.3"
  }
 },
 "nbformat": 4,
 "nbformat_minor": 5
}
