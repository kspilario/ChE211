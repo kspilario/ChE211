{
 "cells": [
  {
   "cell_type": "code",
   "execution_count": null,
   "id": "8c80db42-8977-4dc6-ae28-d778875ac626",
   "metadata": {},
   "outputs": [],
   "source": []
  }
 ],
 "metadata": {
  "kernelspec": {
   "display_name": "",
   "name": ""
  },
  "language_info": {
   "name": ""
  }
 },
 "nbformat": 4,
 "nbformat_minor": 5
}
